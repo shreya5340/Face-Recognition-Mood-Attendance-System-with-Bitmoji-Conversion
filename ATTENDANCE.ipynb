{
 "cells": [
  {
   "cell_type": "markdown",
   "id": "eb825f6f",
   "metadata": {},
   "source": [
    "## Importing required libraries"
   ]
  },
  {
   "cell_type": "code",
   "execution_count": 1,
   "id": "11d4efa4",
   "metadata": {},
   "outputs": [],
   "source": [
    "import face_recognition as fr\n",
    "import cv2\n",
    "import numpy as np\n",
    "import csv\n",
    "from datetime import datetime\n",
    "from keras.models import load_model\n",
    "from tensorflow.keras.utils import img_to_array"
   ]
  },
  {
   "cell_type": "markdown",
   "id": "12a76d72",
   "metadata": {},
   "source": [
    "## Pre-processing"
   ]
  },
  {
   "cell_type": "code",
   "execution_count": 2,
   "id": "b496a721",
   "metadata": {},
   "outputs": [],
   "source": [
    "face_classifier = cv2.CascadeClassifier('haarcascade_frontalface_default.xml')\n",
    "classifier =load_model('model.h5')\n",
    "\n",
    "emotion_labels = ['Angry','Disgust','Fear','Happy','Neutral', 'Sad', 'Surprise']\n",
    "\n",
    "video_capture=cv2.VideoCapture(0)\n",
    "\n",
    "Shreya_image=fr.load_image_file(\"faces/Shreya.jpeg\")\n",
    "Shreya_encoding=fr.face_encodings(Shreya_image)[0]\n",
    "\n",
    "APJ_image=fr.load_image_file(\"faces/APJ Abdul kalam.jpg\")\n",
    "APJ_encoding=fr.face_encodings(APJ_image)[0]\n",
    "\n",
    "Nikola_image=fr.load_image_file(\"faces/Nikola Tesla.jpeg\")\n",
    "Nikola_encoding=fr.face_encodings(Nikola_image)[0]\n",
    "\n",
    "Vishy_image=fr.load_image_file(\"faces/Vishy.jpg\")\n",
    "Vishy_encoding=fr.face_encodings(Vishy_image)[0]"
   ]
  },
  {
   "cell_type": "code",
   "execution_count": 3,
   "id": "6658530d",
   "metadata": {},
   "outputs": [],
   "source": [
    "known_face_encoding=[\n",
    "    Shreya_encoding,\n",
    "    APJ_encoding,\n",
    "    Nikola_encoding,\n",
    "    Vishy_encoding\n",
    "]\n",
    "\n",
    "known_faces_names=[\n",
    "    \"Shreya\",\n",
    "    \"APJ Abdul Kalam\",\n",
    "    \"Nikola Tesla\",\n",
    "    \"Vishy\"\n",
    "]"
   ]
  },
  {
   "cell_type": "code",
   "execution_count": 4,
   "id": "00055e7c",
   "metadata": {},
   "outputs": [],
   "source": [
    "students=known_faces_names.copy()"
   ]
  },
  {
   "cell_type": "code",
   "execution_count": 5,
   "id": "e3ef6e24",
   "metadata": {},
   "outputs": [],
   "source": [
    "colours={\"Angry\": (0,0,255),\"Disgust\": (250,230,230),\"Fear\":(255,0,0),\"Happy\":(0,255,255),\"Neutral\":(0,255,0),\"Sad\":(255,255,255),\"Surprise\": (220,70,220)}"
   ]
  },
  {
   "cell_type": "code",
   "execution_count": 6,
   "id": "8b179cdb",
   "metadata": {},
   "outputs": [],
   "source": [
    "now=datetime.now()\n",
    "current_date=now.strftime(\"%Y-%m-%d\")"
   ]
  },
  {
   "cell_type": "code",
   "execution_count": 7,
   "id": "152103c1",
   "metadata": {},
   "outputs": [],
   "source": [
    "f=open(current_date+'.csv','w+',newline='')\n",
    "lnwriter=csv.writer(f)"
   ]
  },
  {
   "cell_type": "markdown",
   "id": "6cc32939",
   "metadata": {},
   "source": [
    "## Main program"
   ]
  },
  {
   "cell_type": "code",
   "execution_count": 8,
   "id": "00273154",
   "metadata": {},
   "outputs": [
    {
     "name": "stdout",
     "output_type": "stream",
     "text": [
      "1/1 [==============================] - 0s 330ms/step\n",
      "1/1 [==============================] - 0s 32ms/step\n",
      "1/1 [==============================] - 0s 35ms/step\n",
      "1/1 [==============================] - 0s 31ms/step\n",
      "1/1 [==============================] - 0s 22ms/step\n",
      "1/1 [==============================] - 0s 16ms/step\n",
      "1/1 [==============================] - 0s 21ms/step\n",
      "1/1 [==============================] - 0s 23ms/step\n",
      "1/1 [==============================] - 0s 17ms/step\n",
      "1/1 [==============================] - 0s 16ms/step\n",
      "1/1 [==============================] - 0s 23ms/step\n",
      "1/1 [==============================] - 0s 16ms/step\n",
      "1/1 [==============================] - 0s 16ms/step\n",
      "1/1 [==============================] - 0s 16ms/step\n",
      "1/1 [==============================] - 0s 16ms/step\n",
      "1/1 [==============================] - 0s 24ms/step\n",
      "1/1 [==============================] - 0s 16ms/step\n",
      "1/1 [==============================] - 0s 30ms/step\n",
      "1/1 [==============================] - 0s 16ms/step\n",
      "1/1 [==============================] - 0s 35ms/step\n",
      "1/1 [==============================] - 0s 31ms/step\n",
      "1/1 [==============================] - 0s 21ms/step\n",
      "1/1 [==============================] - 0s 16ms/step\n",
      "1/1 [==============================] - 0s 39ms/step\n",
      "1/1 [==============================] - 0s 16ms/step\n",
      "1/1 [==============================] - 0s 16ms/step\n",
      "1/1 [==============================] - 0s 23ms/step\n",
      "1/1 [==============================] - 0s 17ms/step\n",
      "1/1 [==============================] - 0s 15ms/step\n",
      "1/1 [==============================] - 0s 29ms/step\n",
      "1/1 [==============================] - 0s 22ms/step\n",
      "1/1 [==============================] - 0s 22ms/step\n",
      "1/1 [==============================] - 0s 21ms/step\n"
     ]
    }
   ],
   "source": [
    "while True:\n",
    "    \n",
    "    ret,frame=video_capture.read()\n",
    "\n",
    "    labels = []\n",
    "    gray = cv2.cvtColor(frame,cv2.COLOR_BGR2GRAY)\n",
    "    faces = face_classifier.detectMultiScale(gray)\n",
    "    label='Neutral'\n",
    "\n",
    "    for (x,y,w,h) in faces:\n",
    "        roi_gray = gray[y:y+h,x:x+w]\n",
    "        roi_gray = cv2.resize(roi_gray,(48,48),interpolation=cv2.INTER_AREA)\n",
    "\n",
    "        if np.sum([roi_gray])!=0:\n",
    "            roi = roi_gray.astype('float')/255.0\n",
    "            roi = img_to_array(roi)\n",
    "            roi = np.expand_dims(roi,axis=0)\n",
    "            \n",
    "            \n",
    "            # Detecting the facial emotions of the faces\n",
    "            prediction = classifier.predict(roi)[0]\n",
    "            label=emotion_labels[prediction.argmax()]\n",
    "\n",
    "    rgb_frame=frame[:,:,::-1]\n",
    "    fc_locations=fr.face_locations(rgb_frame)\n",
    "    \n",
    "    fc_encodings=fr.face_encodings(rgb_frame,fc_locations)\n",
    "    \n",
    "    for (top,right,bottom,left),face_encoding in zip(fc_locations,fc_encodings):\n",
    "        matches=fr.compare_faces(known_face_encoding,face_encoding)\n",
    "        \n",
    "        name='Unknown'\n",
    "        \n",
    "        fc_distances=fr.face_distance(known_face_encoding,face_encoding)\n",
    "        \n",
    "        match_index=np.argmin(fc_distances)\n",
    "        \n",
    "        # Finding the best matching face\n",
    "        if matches[match_index]:\n",
    "            name=known_faces_names[match_index]\n",
    "            \n",
    "        \n",
    "        # Displaying a box around the faces\n",
    "        cv2.rectangle(frame,(left,top),(right,bottom),(0,0,0),2)\n",
    "        cv2.rectangle(frame,(left,bottom),(right,bottom),(0,0,0),2)\n",
    "        \n",
    "        font=cv2.FONT_HERSHEY_SIMPLEX\n",
    "        \n",
    "        \n",
    "        # Displaying name and emotions\n",
    "        cv2.putText(frame,name,(left+6,bottom-6),font,1.0,(0,0,0),1)\n",
    "        cv2.putText(frame,label,(left,top),font,1.0,colours[label],1)\n",
    "        \n",
    "        \n",
    "        # Enter the names in the CSV file\n",
    "        if name in students:\n",
    "            students.remove(name)\n",
    "            lnwriter.writerow([name])\n",
    "        \n",
    "    cv2.imshow(\"Attendance Frame\",frame)\n",
    "    \n",
    "    # press q to exit\n",
    "    if cv2.waitKey(1) & 0xFF == ord('q'): break\n",
    "\n",
    "video_capture.release()\n",
    "cv2.destroyAllWindows()\n",
    "f.close()"
   ]
  },
  {
   "cell_type": "code",
   "execution_count": null,
   "id": "4823b4db",
   "metadata": {},
   "outputs": [],
   "source": []
  }
 ],
 "metadata": {
  "kernelspec": {
   "display_name": "Python 3 (ipykernel)",
   "language": "python",
   "name": "python3"
  },
  "language_info": {
   "codemirror_mode": {
    "name": "ipython",
    "version": 3
   },
   "file_extension": ".py",
   "mimetype": "text/x-python",
   "name": "python",
   "nbconvert_exporter": "python",
   "pygments_lexer": "ipython3",
   "version": "3.9.12"
  }
 },
 "nbformat": 4,
 "nbformat_minor": 5
}
